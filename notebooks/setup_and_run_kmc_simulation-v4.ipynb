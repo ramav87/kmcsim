{
 "cells": [
  {
   "cell_type": "markdown",
   "metadata": {},
   "source": [
    "# KMC simulation of PLD with Deep Q Learning\n",
    "\n",
    "In this version the state function is just the atomic positions of the surface projection (flattened)"
   ]
  },
  {
   "cell_type": "code",
   "execution_count": 1,
   "metadata": {},
   "outputs": [],
   "source": [
    "#!pip install tensorflow keras"
   ]
  },
  {
   "cell_type": "code",
   "execution_count": 2,
   "metadata": {},
   "outputs": [],
   "source": [
    "#!pip install tensorflow-gpu"
   ]
  },
  {
   "cell_type": "code",
   "execution_count": 3,
   "metadata": {},
   "outputs": [],
   "source": [
    "import sys\n",
    "import os\n",
    "import numpy as np\n",
    "import collections\n",
    "from mpl_toolkits.mplot3d import Axes3D\n",
    "import matplotlib.pyplot as plt\n",
    "from time import time\n",
    "from mpl_toolkits.axes_grid1 import make_axes_locatable"
   ]
  },
  {
   "cell_type": "code",
   "execution_count": 4,
   "metadata": {},
   "outputs": [],
   "source": [
    "#Writing some helper functions\n",
    "\n",
    "def write_lattice_to_file(input_settings,position_vec, latt):\n",
    "    #Write a new input lattice file\n",
    "    #position_vec is the array containing positions of all of the atoms\n",
    "    filename = input_settings['incfg_file'][0]\n",
    "    new_latt_xyzs = list()\n",
    "    \n",
    "    for i in range(position_vec.shape[0]):\n",
    "        new_latt_xyzs.append(list(['Ni', position_vec[i,0], position_vec[i,1],position_vec[i,2]]))\n",
    "\n",
    "    new_latt = collections.OrderedDict()\n",
    "    new_latt['nat'] = latt['nat']\n",
    "    new_latt['box'] = latt['box']\n",
    "    new_latt['xyzs'] = new_latt_xyzs\n",
    "\n",
    "    write_latt(new_latt, filename)\n",
    "    \n",
    "    return \n",
    "\n",
    "def write_new_input_file(input_settings, filename):\n",
    "    #Write a new input file, with settings laid out in the dictionary input_settings\n",
    "    \n",
    "    with open(filename, 'w') as fo:\n",
    "        for key, val in input_settings.items():\n",
    "            string_to_write = key + \": \" + str(val) +'\\n'\n",
    "            fo.write(string_to_write)\n",
    "\n",
    "def write_params_file(input_settings, new_parms):\n",
    "    #IF you want to change parameters, use this function to write a new parameters file\n",
    "    new_parms_file = input_settings['param_file']\n",
    "    \n",
    "    with open(new_parms_file, 'w') as fo:\n",
    "        for key, val in new_parms.items():\n",
    "            string_to_write = key + \": \" + str(val) +'\\n'\n",
    "            fo.write(string_to_write)\n",
    "            \n",
    "def make_surface_proj(atom_box):\n",
    "    #Given an atom box (matrix with 1s where atoms are), determine the surface projection\n",
    "    \n",
    "    surface_proj = np.zeros(shape=(atom_box.shape[0], atom_box.shape[1]))\n",
    "    for i in range(surface_proj.shape[0]):\n",
    "        for j in range(surface_proj.shape[1]):\n",
    "            try:\n",
    "                surface_proj[i,j] = np.max(np.where(atom_box[i,j,:]==1))\n",
    "            except ValueError:\n",
    "                surface_proj[i,j] = 0\n",
    "    return surface_proj\n",
    "\n",
    "def calc_roughness(surface_projection):\n",
    "    #Calculate the roughness, given a surface projection\n",
    "    N = surface_projection.shape[0]\n",
    "    M = surface_projection.shape[1]\n",
    "    zbar = np.mean(surface_projection)\n",
    "    z_sum = 0\n",
    "    for i in range(N):\n",
    "        for j in range(M):\n",
    "            z_sum+=((surface_projection[i,j] - zbar )**2)\n",
    "    rms_roughness = np.sqrt((1.0/(N*M))*z_sum)\n",
    "    return rms_roughness\n",
    "\n",
    "def get_state_reward(sim_model):\n",
    "    '''Given an input of the simulation model this function returns the state and reward'''\n",
    "    #To get the final state put atoms into atom box\n",
    "    arr = sim_model.kmc.get_conf()\n",
    "    arr_1 = np.array(arr[0])\n",
    "    full_atom_box = np.zeros([latt['box'][1],latt['box'][2],latt['box'][3] ])\n",
    "    for i,j,k in arr_1:\n",
    "        full_atom_box[i,j,k]=1\n",
    "    \n",
    "    surface_proj = make_surface_proj(full_atom_box)\n",
    "    rms_val = calc_roughness(surface_proj)\n",
    "    \n",
    "    return surface_proj.flatten(), -1*rms_val\n",
    "\n",
    "def run_sim_with_chosen_action(s,action,old_rate, new_rates, verbose=False):\n",
    "    #Given simulation model and the action, update the rate and continue running the simulation\n",
    "    \n",
    "    #update the rates based on the action taken\n",
    "    \n",
    "    #new_rate = new_rates[action]\n",
    "    '''if action<4\n",
    "        new_dep_rate = new_rate\n",
    "        new_diff_rate = old_rates[0]\n",
    "    else:\n",
    "        new_diff_rate = new_rate\n",
    "        new_dep_rate = old_rates[1]'''\n",
    "    new_diff_rate = old_rate[1]\n",
    "    new_dep_rate = new_rates[action]\n",
    "    \n",
    "    s.update_rate(np.array([new_dep_rate, new_diff_rate, new_diff_rate]), verbose=verbose)\n",
    "    \n",
    "    end_flag = s.run_to_next_step(random_seed = np.random.randint(1,99))\n",
    "    \n",
    "    #Now get the state and reward\n",
    "    state, reward = get_state_reward(s)\n",
    "            \n",
    "    return state, reward, s,end_flag"
   ]
  },
  {
   "cell_type": "code",
   "execution_count": 5,
   "metadata": {},
   "outputs": [],
   "source": [
    "#Need to hold the state in memory and hten "
   ]
  },
  {
   "cell_type": "code",
   "execution_count": 6,
   "metadata": {},
   "outputs": [],
   "source": [
    "%load_ext autoreload\n",
    "%autoreload 2\n",
    "%matplotlib inline"
   ]
  },
  {
   "cell_type": "code",
   "execution_count": 7,
   "metadata": {},
   "outputs": [],
   "source": [
    "sys.path.append('..') #/Users/l2v/work/kmcsim"
   ]
  },
  {
   "cell_type": "markdown",
   "metadata": {},
   "source": [
    "Import kmc simulation tools"
   ]
  },
  {
   "cell_type": "code",
   "execution_count": 8,
   "metadata": {},
   "outputs": [],
   "source": [
    "from kmcsim.buildtools import make_fcc, write_latt\n",
    "from kmcsim.sim import KMCModel\n",
    "from kmcsim.sim import EventTree\n",
    "from kmcsim.sim import RunSim"
   ]
  },
  {
   "cell_type": "markdown",
   "metadata": {},
   "source": [
    "Working directory (inputs, outputs)"
   ]
  },
  {
   "cell_type": "code",
   "execution_count": 9,
   "metadata": {},
   "outputs": [],
   "source": [
    "wdir = '../data/working'"
   ]
  },
  {
   "cell_type": "code",
   "execution_count": 10,
   "metadata": {},
   "outputs": [],
   "source": [
    "#cat ../data/working/params"
   ]
  },
  {
   "cell_type": "markdown",
   "metadata": {},
   "source": [
    "Set up simulation box and initial configuration of the substrate (with atoms filling the whole box)"
   ]
  },
  {
   "cell_type": "code",
   "execution_count": 11,
   "metadata": {},
   "outputs": [],
   "source": [
    "# make substrate: perfect FCC lattice of given dimensions\n",
    "box = [16, 32, 4]\n",
    "latt = make_fcc(box)"
   ]
  },
  {
   "cell_type": "code",
   "execution_count": 12,
   "metadata": {},
   "outputs": [],
   "source": [
    "# extend the box in the z-direction to make space for new layers to grow\n",
    "latt['box'][3] = 12"
   ]
  },
  {
   "cell_type": "code",
   "execution_count": 13,
   "metadata": {},
   "outputs": [],
   "source": [
    "# write initial configuration to xyz file in the working directory\n",
    "write_latt(latt, os.path.join(wdir,'ni.xyz'))"
   ]
  },
  {
   "cell_type": "code",
   "execution_count": 14,
   "metadata": {},
   "outputs": [
    {
     "ename": "KeyboardInterrupt",
     "evalue": "",
     "output_type": "error",
     "traceback": [
      "\u001b[0;31m---------------------------------------------------------------------------\u001b[0m",
      "\u001b[0;31mKeyboardInterrupt\u001b[0m                         Traceback (most recent call last)",
      "\u001b[0;32m<ipython-input-14-25034c727b39>\u001b[0m in \u001b[0;36m<module>\u001b[0;34m()\u001b[0m\n\u001b[1;32m      2\u001b[0m \u001b[0msim\u001b[0m\u001b[0;34m.\u001b[0m\u001b[0mread\u001b[0m\u001b[0;34m(\u001b[0m\u001b[0mos\u001b[0m\u001b[0;34m.\u001b[0m\u001b[0mpath\u001b[0m\u001b[0;34m.\u001b[0m\u001b[0mjoin\u001b[0m\u001b[0;34m(\u001b[0m\u001b[0mwdir\u001b[0m\u001b[0;34m,\u001b[0m\u001b[0;34m'kmc.input'\u001b[0m\u001b[0;34m)\u001b[0m\u001b[0;34m)\u001b[0m\u001b[0;34m\u001b[0m\u001b[0;34m\u001b[0m\u001b[0m\n\u001b[1;32m      3\u001b[0m \u001b[0msim\u001b[0m\u001b[0;34m.\u001b[0m\u001b[0minit_sim\u001b[0m\u001b[0;34m(\u001b[0m\u001b[0;34m)\u001b[0m\u001b[0;34m\u001b[0m\u001b[0;34m\u001b[0m\u001b[0m\n\u001b[0;32m----> 4\u001b[0;31m \u001b[0msim\u001b[0m\u001b[0;34m.\u001b[0m\u001b[0mrun\u001b[0m\u001b[0;34m(\u001b[0m\u001b[0;34m)\u001b[0m\u001b[0;34m\u001b[0m\u001b[0;34m\u001b[0m\u001b[0m\n\u001b[0m",
      "\u001b[0;32m~/anaconda3/lib/python3.6/site-packages/kmcsim-0.0.1-py3.6.egg/kmcsim/sim/runsim.py\u001b[0m in \u001b[0;36mrun\u001b[0;34m(self)\u001b[0m\n\u001b[1;32m    127\u001b[0m             \u001b[0mt\u001b[0m \u001b[0;34m+=\u001b[0m \u001b[0mself\u001b[0m\u001b[0;34m.\u001b[0m\u001b[0mkmc\u001b[0m\u001b[0;34m.\u001b[0m\u001b[0madvance_time\u001b[0m\u001b[0;34m(\u001b[0m\u001b[0;34m)\u001b[0m\u001b[0;34m\u001b[0m\u001b[0;34m\u001b[0m\u001b[0m\n\u001b[1;32m    128\u001b[0m             \u001b[0mself\u001b[0m\u001b[0;34m.\u001b[0m\u001b[0mglobal_time\u001b[0m \u001b[0;34m=\u001b[0m \u001b[0mt\u001b[0m\u001b[0;34m\u001b[0m\u001b[0;34m\u001b[0m\u001b[0m\n\u001b[0;32m--> 129\u001b[0;31m             \u001b[0mself\u001b[0m\u001b[0;34m.\u001b[0m\u001b[0mkmc\u001b[0m\u001b[0;34m.\u001b[0m\u001b[0mstep\u001b[0m\u001b[0;34m(\u001b[0m\u001b[0;34m)\u001b[0m\u001b[0;34m\u001b[0m\u001b[0;34m\u001b[0m\u001b[0m\n\u001b[0m\u001b[1;32m    130\u001b[0m \u001b[0;34m\u001b[0m\u001b[0m\n\u001b[1;32m    131\u001b[0m             \u001b[0mit\u001b[0m \u001b[0;34m+=\u001b[0m \u001b[0;36m1\u001b[0m\u001b[0;34m\u001b[0m\u001b[0;34m\u001b[0m\u001b[0m\n",
      "\u001b[0;32m~/anaconda3/lib/python3.6/site-packages/kmcsim-0.0.1-py3.6.egg/kmcsim/sim/model.py\u001b[0m in \u001b[0;36mstep\u001b[0;34m(self)\u001b[0m\n\u001b[1;32m    460\u001b[0m \u001b[0;34m\u001b[0m\u001b[0m\n\u001b[1;32m    461\u001b[0m         \u001b[0;31m# perform a step prescribed by the event and return lists of affected events\u001b[0m\u001b[0;34m\u001b[0m\u001b[0;34m\u001b[0m\u001b[0;34m\u001b[0m\u001b[0m\n\u001b[0;32m--> 462\u001b[0;31m         \u001b[0mn_events\u001b[0m \u001b[0;34m=\u001b[0m \u001b[0mself\u001b[0m\u001b[0;34m.\u001b[0m\u001b[0mmove\u001b[0m\u001b[0;34m(\u001b[0m\u001b[0mevent_type\u001b[0m\u001b[0;34m,\u001b[0m \u001b[0mevent_number\u001b[0m\u001b[0;34m)\u001b[0m\u001b[0;34m\u001b[0m\u001b[0;34m\u001b[0m\u001b[0m\n\u001b[0m\u001b[1;32m    463\u001b[0m \u001b[0;34m\u001b[0m\u001b[0m\n\u001b[1;32m    464\u001b[0m         \u001b[0;31m# update binary search tree\u001b[0m\u001b[0;34m\u001b[0m\u001b[0;34m\u001b[0m\u001b[0;34m\u001b[0m\u001b[0m\n",
      "\u001b[0;32m~/anaconda3/lib/python3.6/site-packages/kmcsim-0.0.1-py3.6.egg/kmcsim/sim/model.py\u001b[0m in \u001b[0;36mmove\u001b[0;34m(self, event_type, event_number)\u001b[0m\n\u001b[1;32m    405\u001b[0m \u001b[0;34m\u001b[0m\u001b[0m\n\u001b[1;32m    406\u001b[0m                 \u001b[0;31m# add new events of neighbor j\u001b[0m\u001b[0;34m\u001b[0m\u001b[0;34m\u001b[0m\u001b[0;34m\u001b[0m\u001b[0m\n\u001b[0;32m--> 407\u001b[0;31m                 \u001b[0mevents_found\u001b[0m \u001b[0;34m=\u001b[0m \u001b[0mself\u001b[0m\u001b[0;34m.\u001b[0m\u001b[0mfind_events\u001b[0m\u001b[0;34m(\u001b[0m\u001b[0mt_rj\u001b[0m\u001b[0;34m)\u001b[0m\u001b[0;34m\u001b[0m\u001b[0;34m\u001b[0m\u001b[0m\n\u001b[0m\u001b[1;32m    408\u001b[0m                 \u001b[0mnew_events\u001b[0m\u001b[0;34m.\u001b[0m\u001b[0mextend\u001b[0m\u001b[0;34m(\u001b[0m\u001b[0mevents_found\u001b[0m\u001b[0;34m)\u001b[0m\u001b[0;34m\u001b[0m\u001b[0;34m\u001b[0m\u001b[0m\n\u001b[1;32m    409\u001b[0m \u001b[0;34m\u001b[0m\u001b[0m\n",
      "\u001b[0;32m~/anaconda3/lib/python3.6/site-packages/kmcsim-0.0.1-py3.6.egg/kmcsim/sim/model.py\u001b[0m in \u001b[0;36mfind_events\u001b[0;34m(self, rj)\u001b[0m\n\u001b[1;32m    149\u001b[0m                 \u001b[0;31m# find if vacancy is a good destination spot\u001b[0m\u001b[0;34m\u001b[0m\u001b[0;34m\u001b[0m\u001b[0;34m\u001b[0m\u001b[0m\n\u001b[1;32m    150\u001b[0m                 \u001b[0;32mif\u001b[0m \u001b[0mself\u001b[0m\u001b[0;34m.\u001b[0m\u001b[0mlatt\u001b[0m\u001b[0;34m[\u001b[0m\u001b[0mrk\u001b[0m\u001b[0;34m]\u001b[0m \u001b[0;34m==\u001b[0m \u001b[0;36m0\u001b[0m\u001b[0;34m:\u001b[0m\u001b[0;34m\u001b[0m\u001b[0;34m\u001b[0m\u001b[0m\n\u001b[0;32m--> 151\u001b[0;31m                     \u001b[0m_\u001b[0m\u001b[0;34m,\u001b[0m \u001b[0mgrain_numbers_k\u001b[0m \u001b[0;34m=\u001b[0m \u001b[0mself\u001b[0m\u001b[0;34m.\u001b[0m\u001b[0mfind_neighbors\u001b[0m\u001b[0;34m(\u001b[0m\u001b[0mrk\u001b[0m\u001b[0;34m)\u001b[0m\u001b[0;34m\u001b[0m\u001b[0;34m\u001b[0m\u001b[0m\n\u001b[0m\u001b[1;32m    152\u001b[0m \u001b[0;34m\u001b[0m\u001b[0m\n\u001b[1;32m    153\u001b[0m                     \u001b[0;31m# if number of real atoms 3 or more, make vacancy available as\u001b[0m\u001b[0;34m\u001b[0m\u001b[0;34m\u001b[0m\u001b[0;34m\u001b[0m\u001b[0m\n",
      "\u001b[0;32m~/anaconda3/lib/python3.6/site-packages/kmcsim-0.0.1-py3.6.egg/kmcsim/sim/model.py\u001b[0m in \u001b[0;36mfind_neighbors\u001b[0;34m(self, ri)\u001b[0m\n\u001b[1;32m     93\u001b[0m         \u001b[0;32mfor\u001b[0m \u001b[0mdr\u001b[0m \u001b[0;32min\u001b[0m \u001b[0mself\u001b[0m\u001b[0;34m.\u001b[0m\u001b[0mnbrlist\u001b[0m\u001b[0;34m[\u001b[0m\u001b[0;36m0\u001b[0m\u001b[0;34m:\u001b[0m\u001b[0;36m12\u001b[0m\u001b[0;34m]\u001b[0m\u001b[0;34m:\u001b[0m\u001b[0;34m\u001b[0m\u001b[0;34m\u001b[0m\u001b[0m\n\u001b[1;32m     94\u001b[0m             \u001b[0mrj\u001b[0m \u001b[0;34m=\u001b[0m \u001b[0mtuple\u001b[0m\u001b[0;34m(\u001b[0m\u001b[0;34m(\u001b[0m\u001b[0mnp\u001b[0m\u001b[0;34m.\u001b[0m\u001b[0marray\u001b[0m\u001b[0;34m(\u001b[0m\u001b[0mri\u001b[0m\u001b[0;34m)\u001b[0m \u001b[0;34m+\u001b[0m \u001b[0mdr\u001b[0m\u001b[0;34m)\u001b[0m \u001b[0;34m%\u001b[0m \u001b[0mself\u001b[0m\u001b[0;34m.\u001b[0m\u001b[0mbox\u001b[0m\u001b[0;34m)\u001b[0m\u001b[0;34m\u001b[0m\u001b[0;34m\u001b[0m\u001b[0m\n\u001b[0;32m---> 95\u001b[0;31m             \u001b[0miatom\u001b[0m \u001b[0;34m=\u001b[0m \u001b[0mself\u001b[0m\u001b[0;34m.\u001b[0m\u001b[0mlatt\u001b[0m\u001b[0;34m[\u001b[0m\u001b[0mrj\u001b[0m\u001b[0;34m]\u001b[0m\u001b[0;34m\u001b[0m\u001b[0;34m\u001b[0m\u001b[0m\n\u001b[0m\u001b[1;32m     96\u001b[0m             \u001b[0mneighbors\u001b[0m\u001b[0;34m.\u001b[0m\u001b[0mappend\u001b[0m\u001b[0;34m(\u001b[0m\u001b[0mrj\u001b[0m\u001b[0;34m)\u001b[0m\u001b[0;34m\u001b[0m\u001b[0;34m\u001b[0m\u001b[0m\n\u001b[1;32m     97\u001b[0m             \u001b[0;32mif\u001b[0m \u001b[0miatom\u001b[0m \u001b[0;34m>\u001b[0m \u001b[0;36m0\u001b[0m\u001b[0;34m:\u001b[0m\u001b[0;34m\u001b[0m\u001b[0;34m\u001b[0m\u001b[0m\n",
      "\u001b[0;31mKeyboardInterrupt\u001b[0m: "
     ]
    }
   ],
   "source": [
    "sim = RunSim()\n",
    "sim.read(os.path.join(wdir,'kmc.input'))\n",
    "sim.init_sim()\n",
    "sim.run()"
   ]
  },
  {
   "cell_type": "code",
   "execution_count": null,
   "metadata": {
    "scrolled": true
   },
   "outputs": [],
   "source": [
    "drates = [0.12, 0.14, 0.16]\n",
    "deprates = [0.12, 0.12, 0.12]\n",
    "drates_2 = [0.20, 0.40, 0.40]\n",
    "\n",
    "arrs = []\n",
    "roughness_values = []\n",
    "for k in range(3):\n",
    "\n",
    "    sim = RunSim()\n",
    "    sim.read(os.path.join(wdir,'kmc.input'))\n",
    "    sim.init_sim()\n",
    "    sim.update_rate(np.array([drates[k], deprates[k], drates_2[k]]))\n",
    "    fig, axes = plt.subplots(figsize = (10,10), nrows=2,ncols=3)\n",
    "    fig.suptitle(\"Trial # {}\".format(k), fontsize = 18, y = 1.05)\n",
    "    for ind, ax in enumerate(axes.flat):\n",
    "\n",
    "        sim.run_to_next_step()\n",
    "        arr = sim.kmc.get_conf()\n",
    "        arr_1 = np.array(arr[0])\n",
    "        arrs.append(arr_1)\n",
    "        full_atom_box = np.zeros([latt['box'][1],latt['box'][2],latt['box'][3] ])\n",
    "        for i,j,k in arr_1:\n",
    "            full_atom_box[i,j,k]=1\n",
    "\n",
    "        surface_proj = make_surface_proj(full_atom_box)\n",
    "        rms_val = calc_roughness(surface_proj)\n",
    "        roughness_values.append(rms_val)\n",
    "        im1 = ax.imshow(surface_proj)\n",
    "        #plt.colorbar()\n",
    "        ax.set_title('RMS: ' + str(np.round(rms_val,2)));\n",
    "        ax.axis('off')\n",
    "        #ax.set_yticklabels('')\n",
    "        \n",
    "        divider = make_axes_locatable(ax)\n",
    "        cax = divider.append_axes('right', size='5%', pad=0.05)\n",
    "        cb = fig.colorbar(im1, cax=cax, orientation='vertical')\n",
    "        cb.ax.set_ylabel('Height (at. u.)')\n",
    "        \n",
    "    fig.tight_layout(h_pad = 1.12, w_pad = 1.12)\n",
    "    \n"
   ]
  },
  {
   "cell_type": "code",
   "execution_count": null,
   "metadata": {},
   "outputs": [],
   "source": [
    "arr = sim.kmc.get_conf()\n",
    "arr_1 = np.array(arr[0])"
   ]
  },
  {
   "cell_type": "code",
   "execution_count": null,
   "metadata": {},
   "outputs": [],
   "source": [
    "arr_1.shape"
   ]
  },
  {
   "cell_type": "code",
   "execution_count": null,
   "metadata": {},
   "outputs": [],
   "source": [
    "colors = plt.cm.get_cmap('BuPu', arr_1[:,2].max()*1.25)\n",
    "arr_1 = arrs[5]\n",
    "\n",
    "fig2, axes2 = plt.subplots(figsize = (18,12),nrows=2,ncols=3,subplot_kw=dict(projection='3d'))\n",
    "for ind, ax in enumerate(axes2.flat):\n",
    "    roughness_val = np.round(roughness_values[ind],2)\n",
    "    arr_1 = arrs[ind]\n",
    "    #ax = fig.add_subplot(111, projection='3d')\n",
    "    ax.scatter(arr_1[:,0],arr_1[:,1],arr_1[:,2],s=88, alpha = 0.7, c = colors(arr_1[:,2]) )\n",
    "    ax.view_init(40, 45)\n",
    "    ax.set_xlabel('X', fontsize = 12)\n",
    "    ax.set_ylabel('Y', fontsize = 12)\n",
    "    ax.set_zlabel('Z', fontsize = 12)\n",
    "    ax.set_title('RMS: {}'.format(roughness_val), loc = 'left', fontsize = 18)\n",
    "fig2.tight_layout()"
   ]
  },
  {
   "cell_type": "code",
   "execution_count": null,
   "metadata": {},
   "outputs": [],
   "source": [
    "time_vec = np.linspace(0,1,5)\n",
    "\n",
    "fig, axes = plt.subplots()\n",
    "axes.plot(time_vec, roughness_values[:5], color = 'b', markersize = 4, marker = 'o',label = drates[0])\n",
    "axes.plot(time_vec, roughness_values[6:11], color = 'r', markersize = 4, marker = 'o',label = drates[1])\n",
    "axes.plot(time_vec, roughness_values[12:-1], color = 'k', markersize = 4, marker = 'o',label = drates[2])\n",
    "axes.set_xlabel('Time (s)', fontsize = 18)\n",
    "axes.set_ylabel('RMS Roughness', fontsize = 18)\n",
    "fig.legend(loc=[0.2, 0.55], fontsize= 18)\n",
    "for tickx in axes.xaxis.get_major_ticks():\n",
    "    tickx.label.set_fontsize(14) \n",
    "for ticky in axes.yaxis.get_major_ticks():\n",
    "    ticky.label.set_fontsize(14) \n",
    "axes.set_title('Roughness as Func. of Deposition Rates', fontsize = 16)\n",
    "    "
   ]
  },
  {
   "cell_type": "markdown",
   "metadata": {},
   "source": [
    "# Reinforcement Learning Trial"
   ]
  },
  {
   "cell_type": "code",
   "execution_count": null,
   "metadata": {},
   "outputs": [],
   "source": [
    "#Set up the neural network model. Input: atom position box. Output: Choose out of 5 deposition rates ([0.05, 0.1, 0.15, 0.20, 0.25])\n",
    "from keras import Sequential\n",
    "from keras.layers import InputLayer, Dense, Conv2D, MaxPool2D, Conv3D, MaxPool3D, Flatten\n",
    "from keras.optimizers import SGD\n",
    "\n",
    "model = Sequential()\n",
    "model.add(InputLayer(input_shape=(32*32,1), batch_size=1))\n",
    "model.add(Flatten())\n",
    "model.add(Dense(256, activation='relu'))\n",
    "model.add(Dense(256, activation='relu'))\n",
    "model.add(Dense(128, activation='relu'))\n",
    "model.add(Dense(4, activation='linear'))\n",
    "model.compile(loss='mse', optimizer='adam', metrics=['mae'])\n",
    "model.build()\n",
    "model.summary()"
   ]
  },
  {
   "cell_type": "code",
   "execution_count": null,
   "metadata": {
    "scrolled": true
   },
   "outputs": [],
   "source": [
    "num_episodes = 250\n",
    "y = 0.50\n",
    "eps = 0.8\n",
    "decay_factor = 0.97\n",
    "r_avg_list = []\n",
    "dep_rates = [0.12, 0.14, 0.16, 0.18]\n",
    "diff_rates_1 = [0.12, 0.14, 0.16, 0.18]\n",
    "diff_rates_2 = [0.12, 0.14, 0.16, 0.18]\n",
    "all_rates = [0.12, 0.14, 0.16, 0.18, 0.12, 0.14, 0.16, 0.18, 0.12, 0.14, 0.16, 0.18]\n",
    "action_chosen = []\n",
    "\n",
    "s = RunSim()\n",
    "s.read(os.path.join(wdir,'kmc.input')) #Initialize the simulation with this input\n",
    "    \n",
    "model.compile(loss='mse', optimizer='adam', metrics=['mae'])\n",
    "\n",
    "for episode in range(num_episodes):\n",
    "    if episode%10==0:\n",
    "        print('Episode No. {}'.format(episode))\n",
    "        \n",
    "    counter = 0\n",
    "    r_sum = 0\n",
    "   \n",
    "    #for each episode start from the beginning, i.e. initialize a new simulation with default parameters\n",
    "    \n",
    "    s.init_sim()\n",
    "    end_flag = s.run_to_next_step(random_seed = np.random.randint(1,99)) #Run the simulation from the initial conditions\n",
    "    \n",
    "    while end_flag!=1:\n",
    "        t0 = time()\n",
    "        eps *= decay_factor\n",
    "        #eps = max(eps, 0.05) #maintain some semblence of exploration ;)\n",
    "        #Get the state and reward\n",
    "        state, reward  = get_state_reward(s)\n",
    "\n",
    "        #Choose an action\n",
    "        if np.random.random() < eps:\n",
    "            action = np.random.randint(0, 4)\n",
    "        else:\n",
    "            action = np.argmax(model.predict(state[None,:,None]))\n",
    "\n",
    "        #Now run the simulation from the new state with the new action\n",
    "        #Returns the state function and kmcmodel\n",
    "        old_rates = s.kmc.etree.rates\n",
    "        s_new, reward_new, kmc_model, end_flag = run_sim_with_chosen_action(s,action,old_rates, dep_rates)\n",
    "        \n",
    "        reward_new = reward_new - reward \n",
    "        \n",
    "        target = reward_new + y * np.max(model.predict(s_new[None,:,None]))\n",
    "        target_vec = model.predict(state[None,:,None])[0]\n",
    "        target_vec[action] = target\n",
    "        \n",
    "        #print(\"Action Number: {}, Deposition Rate: {}\".format(counter, dep_rates[action]))\n",
    "        \n",
    "        model.fit(state[None,:,None], target_vec.reshape(-1, 4), epochs=1, verbose=0)\n",
    "        s = kmc_model\n",
    "        counter+=1\n",
    "        r_sum += reward_new\n",
    "        \n",
    "        t1 = time()\n",
    "        action_chosen.append(action)\n",
    "        #print(\"Took {} s\".format(np.round(t1-t0, 4)))\n",
    "        \n",
    "    r_avg_list.append(r_sum)\n"
   ]
  },
  {
   "cell_type": "code",
   "execution_count": null,
   "metadata": {
    "scrolled": false
   },
   "outputs": [],
   "source": [
    "from scipy.signal import wiener\n",
    "\n",
    "kernel_size = 13\n",
    "\n",
    "plt.figure(figsize = (12,8))\n",
    "plt.plot(wiener(r_avg_list, mysize = kernel_size)[:], linewidth = 4)\n",
    "plt.title('Agent Training: Deposition Rate', fontsize = 18)\n",
    "plt.xlabel('Episode #', fontsize = 18)\n",
    "plt.ylabel('Reward (Negative RMS Roughness)', fontsize = 18)\n",
    "plt.xticks(fontsize =18)\n",
    "plt.yticks(fontsize =18)\n",
    "plt.savefig('reward_per_episode_dep_sp_flat.png', dpi = 300)\n",
    "\n",
    "#Let's take a look at how the actions change over time: consider 9 increments\n",
    "\n",
    "total_actions = len(action_chosen)\n",
    "segments = np.linspace(0,total_actions, 10)\n",
    "\n",
    "fig, axes = plt.subplots(nrows=3,ncols=3, figsize=(10,10))\n",
    "for ind, ax in enumerate(axes.flat):\n",
    "    seg_start = int(segments[ind])\n",
    "    seg_finish = min(int(segments[ind+1]),total_actions)\n",
    "    act_segment = action_chosen[seg_start:seg_finish]    \n",
    "    ax.hist(act_segment, bins = [0,1,2,3,4])\n",
    "    ax.set_xlabel('Dep Rate', fontsize = 14)\n",
    "    ax.set_ylabel('Frequency', fontsize = 14)\n",
    "    ax.set_title('Actions {} to {}'.format(seg_start, seg_finish), fontsize = 12 )\n",
    "    ax.set_xticks([0.5,1.5,2.5,3.5])\n",
    "    ax.set_xticklabels(dep_rates)\n",
    "\n",
    "fig.suptitle('Actions Histogram', fontsize = 18, y = 1.05)\n",
    "fig.tight_layout()\n",
    "fig.savefig('actions_histogram_dep_sp_flat.png', dpi = 300)"
   ]
  },
  {
   "cell_type": "code",
   "execution_count": null,
   "metadata": {},
   "outputs": [],
   "source": [
    "# Run the simulator with different values of the rates to establish baseline performance"
   ]
  },
  {
   "cell_type": "code",
   "execution_count": 15,
   "metadata": {},
   "outputs": [
    {
     "name": "stdout",
     "output_type": "stream",
     "text": [
      "current rates:[0.1 0.1 0.1] \n",
      "new rates:[0.12 0.12 0.12]\n",
      "kmc step: 0\n",
      "30.002855690791655 4124 3507\n",
      "current rates:[0.1 0.1 0.1] \n",
      "new rates:[0.12 0.12 0.12]\n",
      "kmc step: 0\n"
     ]
    },
    {
     "ename": "KeyboardInterrupt",
     "evalue": "",
     "output_type": "error",
     "traceback": [
      "\u001b[0;31m---------------------------------------------------------------------------\u001b[0m",
      "\u001b[0;31mKeyboardInterrupt\u001b[0m                         Traceback (most recent call last)",
      "\u001b[0;32m<ipython-input-15-de28926df092>\u001b[0m in \u001b[0;36m<module>\u001b[0;34m()\u001b[0m\n\u001b[1;32m     14\u001b[0m                 \u001b[0mnew_rates\u001b[0m \u001b[0;34m=\u001b[0m \u001b[0mnp\u001b[0m\u001b[0;34m.\u001b[0m\u001b[0marray\u001b[0m\u001b[0;34m(\u001b[0m\u001b[0;34m[\u001b[0m\u001b[0mdep_rate\u001b[0m\u001b[0;34m,\u001b[0m \u001b[0mdiff_rate\u001b[0m\u001b[0;34m,\u001b[0m \u001b[0mdiff_rate_2\u001b[0m\u001b[0;34m]\u001b[0m\u001b[0;34m)\u001b[0m\u001b[0;34m\u001b[0m\u001b[0;34m\u001b[0m\u001b[0m\n\u001b[1;32m     15\u001b[0m                 \u001b[0ms\u001b[0m\u001b[0;34m.\u001b[0m\u001b[0mupdate_rate\u001b[0m\u001b[0;34m(\u001b[0m\u001b[0mnew_rates\u001b[0m\u001b[0;34m)\u001b[0m\u001b[0;34m\u001b[0m\u001b[0;34m\u001b[0m\u001b[0m\n\u001b[0;32m---> 16\u001b[0;31m                 \u001b[0ms\u001b[0m\u001b[0;34m.\u001b[0m\u001b[0mrun\u001b[0m\u001b[0;34m(\u001b[0m\u001b[0;34m)\u001b[0m\u001b[0;34m;\u001b[0m\u001b[0;34m\u001b[0m\u001b[0;34m\u001b[0m\u001b[0m\n\u001b[0m\u001b[1;32m     17\u001b[0m                 \u001b[0m_\u001b[0m\u001b[0;34m,\u001b[0m \u001b[0mreward\u001b[0m  \u001b[0;34m=\u001b[0m \u001b[0mget_state_reward\u001b[0m\u001b[0;34m(\u001b[0m\u001b[0ms\u001b[0m\u001b[0;34m)\u001b[0m\u001b[0;34m\u001b[0m\u001b[0;34m\u001b[0m\u001b[0m\n\u001b[1;32m     18\u001b[0m                 \u001b[0msim_results\u001b[0m\u001b[0;34m.\u001b[0m\u001b[0mappend\u001b[0m\u001b[0;34m(\u001b[0m\u001b[0mreward\u001b[0m\u001b[0;34m)\u001b[0m\u001b[0;34m\u001b[0m\u001b[0;34m\u001b[0m\u001b[0m\n",
      "\u001b[0;32m~/anaconda3/lib/python3.6/site-packages/kmcsim-0.0.1-py3.6.egg/kmcsim/sim/runsim.py\u001b[0m in \u001b[0;36mrun\u001b[0;34m(self)\u001b[0m\n\u001b[1;32m    127\u001b[0m             \u001b[0mt\u001b[0m \u001b[0;34m+=\u001b[0m \u001b[0mself\u001b[0m\u001b[0;34m.\u001b[0m\u001b[0mkmc\u001b[0m\u001b[0;34m.\u001b[0m\u001b[0madvance_time\u001b[0m\u001b[0;34m(\u001b[0m\u001b[0;34m)\u001b[0m\u001b[0;34m\u001b[0m\u001b[0;34m\u001b[0m\u001b[0m\n\u001b[1;32m    128\u001b[0m             \u001b[0mself\u001b[0m\u001b[0;34m.\u001b[0m\u001b[0mglobal_time\u001b[0m \u001b[0;34m=\u001b[0m \u001b[0mt\u001b[0m\u001b[0;34m\u001b[0m\u001b[0;34m\u001b[0m\u001b[0m\n\u001b[0;32m--> 129\u001b[0;31m             \u001b[0mself\u001b[0m\u001b[0;34m.\u001b[0m\u001b[0mkmc\u001b[0m\u001b[0;34m.\u001b[0m\u001b[0mstep\u001b[0m\u001b[0;34m(\u001b[0m\u001b[0;34m)\u001b[0m\u001b[0;34m\u001b[0m\u001b[0;34m\u001b[0m\u001b[0m\n\u001b[0m\u001b[1;32m    130\u001b[0m \u001b[0;34m\u001b[0m\u001b[0m\n\u001b[1;32m    131\u001b[0m             \u001b[0mit\u001b[0m \u001b[0;34m+=\u001b[0m \u001b[0;36m1\u001b[0m\u001b[0;34m\u001b[0m\u001b[0;34m\u001b[0m\u001b[0m\n",
      "\u001b[0;32m~/anaconda3/lib/python3.6/site-packages/kmcsim-0.0.1-py3.6.egg/kmcsim/sim/model.py\u001b[0m in \u001b[0;36mstep\u001b[0;34m(self)\u001b[0m\n\u001b[1;32m    460\u001b[0m \u001b[0;34m\u001b[0m\u001b[0m\n\u001b[1;32m    461\u001b[0m         \u001b[0;31m# perform a step prescribed by the event and return lists of affected events\u001b[0m\u001b[0;34m\u001b[0m\u001b[0;34m\u001b[0m\u001b[0;34m\u001b[0m\u001b[0m\n\u001b[0;32m--> 462\u001b[0;31m         \u001b[0mn_events\u001b[0m \u001b[0;34m=\u001b[0m \u001b[0mself\u001b[0m\u001b[0;34m.\u001b[0m\u001b[0mmove\u001b[0m\u001b[0;34m(\u001b[0m\u001b[0mevent_type\u001b[0m\u001b[0;34m,\u001b[0m \u001b[0mevent_number\u001b[0m\u001b[0;34m)\u001b[0m\u001b[0;34m\u001b[0m\u001b[0;34m\u001b[0m\u001b[0m\n\u001b[0m\u001b[1;32m    463\u001b[0m \u001b[0;34m\u001b[0m\u001b[0m\n\u001b[1;32m    464\u001b[0m         \u001b[0;31m# update binary search tree\u001b[0m\u001b[0;34m\u001b[0m\u001b[0;34m\u001b[0m\u001b[0;34m\u001b[0m\u001b[0m\n",
      "\u001b[0;32m~/anaconda3/lib/python3.6/site-packages/kmcsim-0.0.1-py3.6.egg/kmcsim/sim/model.py\u001b[0m in \u001b[0;36mmove\u001b[0;34m(self, event_type, event_number)\u001b[0m\n\u001b[1;32m    405\u001b[0m \u001b[0;34m\u001b[0m\u001b[0m\n\u001b[1;32m    406\u001b[0m                 \u001b[0;31m# add new events of neighbor j\u001b[0m\u001b[0;34m\u001b[0m\u001b[0;34m\u001b[0m\u001b[0;34m\u001b[0m\u001b[0m\n\u001b[0;32m--> 407\u001b[0;31m                 \u001b[0mevents_found\u001b[0m \u001b[0;34m=\u001b[0m \u001b[0mself\u001b[0m\u001b[0;34m.\u001b[0m\u001b[0mfind_events\u001b[0m\u001b[0;34m(\u001b[0m\u001b[0mt_rj\u001b[0m\u001b[0;34m)\u001b[0m\u001b[0;34m\u001b[0m\u001b[0;34m\u001b[0m\u001b[0m\n\u001b[0m\u001b[1;32m    408\u001b[0m                 \u001b[0mnew_events\u001b[0m\u001b[0;34m.\u001b[0m\u001b[0mextend\u001b[0m\u001b[0;34m(\u001b[0m\u001b[0mevents_found\u001b[0m\u001b[0;34m)\u001b[0m\u001b[0;34m\u001b[0m\u001b[0;34m\u001b[0m\u001b[0m\n\u001b[1;32m    409\u001b[0m \u001b[0;34m\u001b[0m\u001b[0m\n",
      "\u001b[0;32m~/anaconda3/lib/python3.6/site-packages/kmcsim-0.0.1-py3.6.egg/kmcsim/sim/model.py\u001b[0m in \u001b[0;36mfind_events\u001b[0;34m(self, rj)\u001b[0m\n\u001b[1;32m    131\u001b[0m \u001b[0;34m\u001b[0m\u001b[0m\n\u001b[1;32m    132\u001b[0m             \u001b[0;31m# count number of atomic neighbors in the target position\u001b[0m\u001b[0;34m\u001b[0m\u001b[0;34m\u001b[0m\u001b[0;34m\u001b[0m\u001b[0m\n\u001b[0;32m--> 133\u001b[0;31m             \u001b[0m_\u001b[0m\u001b[0;34m,\u001b[0m \u001b[0mgrain_numbers_j\u001b[0m \u001b[0;34m=\u001b[0m \u001b[0mself\u001b[0m\u001b[0;34m.\u001b[0m\u001b[0mfind_neighbors\u001b[0m\u001b[0;34m(\u001b[0m\u001b[0mrj\u001b[0m\u001b[0;34m)\u001b[0m\u001b[0;34m\u001b[0m\u001b[0;34m\u001b[0m\u001b[0m\n\u001b[0m\u001b[1;32m    134\u001b[0m \u001b[0;34m\u001b[0m\u001b[0m\n\u001b[1;32m    135\u001b[0m             \u001b[0;31m# if 3 or more nearest neighbors with grain IDs, create a deposition event\u001b[0m\u001b[0;34m\u001b[0m\u001b[0;34m\u001b[0m\u001b[0;34m\u001b[0m\u001b[0m\n",
      "\u001b[0;32m~/anaconda3/lib/python3.6/site-packages/kmcsim-0.0.1-py3.6.egg/kmcsim/sim/model.py\u001b[0m in \u001b[0;36mfind_neighbors\u001b[0;34m(self, ri)\u001b[0m\n\u001b[1;32m     92\u001b[0m         \u001b[0mgrain_numbers\u001b[0m \u001b[0;34m=\u001b[0m \u001b[0;34m[\u001b[0m\u001b[0;34m]\u001b[0m\u001b[0;34m\u001b[0m\u001b[0;34m\u001b[0m\u001b[0m\n\u001b[1;32m     93\u001b[0m         \u001b[0;32mfor\u001b[0m \u001b[0mdr\u001b[0m \u001b[0;32min\u001b[0m \u001b[0mself\u001b[0m\u001b[0;34m.\u001b[0m\u001b[0mnbrlist\u001b[0m\u001b[0;34m[\u001b[0m\u001b[0;36m0\u001b[0m\u001b[0;34m:\u001b[0m\u001b[0;36m12\u001b[0m\u001b[0;34m]\u001b[0m\u001b[0;34m:\u001b[0m\u001b[0;34m\u001b[0m\u001b[0;34m\u001b[0m\u001b[0m\n\u001b[0;32m---> 94\u001b[0;31m             \u001b[0mrj\u001b[0m \u001b[0;34m=\u001b[0m \u001b[0mtuple\u001b[0m\u001b[0;34m(\u001b[0m\u001b[0;34m(\u001b[0m\u001b[0mnp\u001b[0m\u001b[0;34m.\u001b[0m\u001b[0marray\u001b[0m\u001b[0;34m(\u001b[0m\u001b[0mri\u001b[0m\u001b[0;34m)\u001b[0m \u001b[0;34m+\u001b[0m \u001b[0mdr\u001b[0m\u001b[0;34m)\u001b[0m \u001b[0;34m%\u001b[0m \u001b[0mself\u001b[0m\u001b[0;34m.\u001b[0m\u001b[0mbox\u001b[0m\u001b[0;34m)\u001b[0m\u001b[0;34m\u001b[0m\u001b[0;34m\u001b[0m\u001b[0m\n\u001b[0m\u001b[1;32m     95\u001b[0m             \u001b[0miatom\u001b[0m \u001b[0;34m=\u001b[0m \u001b[0mself\u001b[0m\u001b[0;34m.\u001b[0m\u001b[0mlatt\u001b[0m\u001b[0;34m[\u001b[0m\u001b[0mrj\u001b[0m\u001b[0;34m]\u001b[0m\u001b[0;34m\u001b[0m\u001b[0;34m\u001b[0m\u001b[0m\n\u001b[1;32m     96\u001b[0m             \u001b[0mneighbors\u001b[0m\u001b[0;34m.\u001b[0m\u001b[0mappend\u001b[0m\u001b[0;34m(\u001b[0m\u001b[0mrj\u001b[0m\u001b[0;34m)\u001b[0m\u001b[0;34m\u001b[0m\u001b[0;34m\u001b[0m\u001b[0m\n",
      "\u001b[0;31mKeyboardInterrupt\u001b[0m: "
     ]
    }
   ],
   "source": [
    "dep_rates = [0.12, 0.14, 0.16, 0.18]\n",
    "diff_rates = [0.12, 0.14, 0.16, 0.18]\n",
    "diff_rates_2 = [0.12, 0.18, 0.22]\n",
    "sim_results_meaned = np.zeros((4,4,3,2))\n",
    "\n",
    "for row, dep_rate in enumerate(dep_rates):\n",
    "    for col, diff_rate in enumerate(diff_rates):\n",
    "        for z, diff_rate_2 in enumerate(diff_rates_2):\n",
    "            sim_results= []\n",
    "            for k in range(10):\n",
    "                s = RunSim()\n",
    "                s.read(os.path.join(wdir,'kmc.input')) #Initialize the simulation with this input   \n",
    "                s.init_sim()\n",
    "                new_rates = np.array([dep_rate, diff_rate, diff_rate_2])\n",
    "                s.update_rate(new_rates)\n",
    "                s.run();\n",
    "                _, reward  = get_state_reward(s)\n",
    "                sim_results.append(reward)\n",
    "            sim_results_meaned[row,col,z,:] = [np.mean(sim_results), np.std(sim_results)]\n",
    "            print('Completed ({},{},{}) of 16'.format(row,col,z))"
   ]
  },
  {
   "cell_type": "code",
   "execution_count": null,
   "metadata": {},
   "outputs": [],
   "source": [
    "plt.figure()\n",
    "plt.imshow(sim_results_meaned[:,:,0])\n",
    "plt.colorbar(label = '-1*Roughness RMS')\n",
    "plt.xticks([0,1,2,3], diff_rates, fontsize = 14)\n",
    "plt.yticks([0,1,2,3],dep_rates, fontsize = 14)\n",
    "plt.xlabel('Diffusion Rates', fontsize = 18)\n",
    "plt.ylabel('Deposition Rates', fontsize = 18)\n",
    "plt.title('Mean of 30 runs', fontsize = 18)\n",
    "\n",
    "plt.figure()\n",
    "plt.imshow(sim_results_meaned[:,:,1])\n",
    "plt.colorbar(label = '-Std. Dev. of Reward')\n",
    "plt.xticks([0,1,2,3], diff_rates, fontsize = 14)\n",
    "plt.yticks([0,1,2,3],dep_rates, fontsize = 14)\n",
    "plt.xlabel('Diffusion Rates', fontsize = 18)\n",
    "plt.ylabel('Deposition Rates', fontsize = 18)\n",
    "plt.title('Stdev of 30 runs', fontsize = 18)\n"
   ]
  },
  {
   "cell_type": "markdown",
   "metadata": {},
   "source": [
    "#### things to try\n",
    "#1. 2d conv net with surface projection\n",
    "#2. flattened array with xyz values instead of whole box\n",
    "#3. find time taken per simulation (as above)\n",
    "\n",
    "1. distributed learning.\n",
    "2. try more sophisticated algo.\n",
    "3. keep on getting closer to PLD...\n"
   ]
  },
  {
   "cell_type": "code",
   "execution_count": null,
   "metadata": {},
   "outputs": [],
   "source": []
  },
  {
   "cell_type": "code",
   "execution_count": null,
   "metadata": {},
   "outputs": [],
   "source": []
  }
 ],
 "metadata": {
  "kernelspec": {
   "display_name": "Python 3",
   "language": "python",
   "name": "python3"
  },
  "language_info": {
   "codemirror_mode": {
    "name": "ipython",
    "version": 3
   },
   "file_extension": ".py",
   "mimetype": "text/x-python",
   "name": "python",
   "nbconvert_exporter": "python",
   "pygments_lexer": "ipython3",
   "version": "3.6.8"
  }
 },
 "nbformat": 4,
 "nbformat_minor": 2
}
