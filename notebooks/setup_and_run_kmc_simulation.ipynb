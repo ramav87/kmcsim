{
 "cells": [
  {
   "cell_type": "markdown",
   "metadata": {},
   "source": [
    "# KMC simulation of PLD"
   ]
  },
  {
   "cell_type": "code",
   "execution_count": 1,
   "metadata": {},
   "outputs": [],
   "source": [
    "#!pip install tensorflow keras"
   ]
  },
  {
   "cell_type": "code",
   "execution_count": 2,
   "metadata": {},
   "outputs": [],
   "source": [
    "#!pip install tensorflow-gpu"
   ]
  },
  {
   "cell_type": "code",
   "execution_count": 3,
   "metadata": {},
   "outputs": [],
   "source": [
    "import sys\n",
    "import os\n",
    "import numpy as np\n",
    "import collections\n",
    "from mpl_toolkits.mplot3d import Axes3D\n",
    "import matplotlib.pyplot as plt\n",
    "from time import time"
   ]
  },
  {
   "cell_type": "code",
   "execution_count": 4,
   "metadata": {},
   "outputs": [],
   "source": [
    "#Writing some helper functions\n",
    "\n",
    "def write_lattice_to_file(input_settings,position_vec, latt):\n",
    "    #Write a new input lattice file\n",
    "    #position_vec is the array containing positions of all of the atoms\n",
    "    filename = input_settings['incfg_file'][0]\n",
    "    new_latt_xyzs = list()\n",
    "    \n",
    "    for i in range(position_vec.shape[0]):\n",
    "        new_latt_xyzs.append(list(['Ni', position_vec[i,0], position_vec[i,1],position_vec[i,2]]))\n",
    "\n",
    "    new_latt = collections.OrderedDict()\n",
    "    new_latt['nat'] = latt['nat']\n",
    "    new_latt['box'] = latt['box']\n",
    "    new_latt['xyzs'] = new_latt_xyzs\n",
    "\n",
    "    write_latt(new_latt, filename)\n",
    "    \n",
    "    return \n",
    "\n",
    "def write_new_input_file(input_settings, filename):\n",
    "    #Write a new input file, with settings laid out in the dictionary input_settings\n",
    "    \n",
    "    with open(filename, 'w') as fo:\n",
    "        for key, val in input_settings.items():\n",
    "            string_to_write = key + \": \" + str(val) +'\\n'\n",
    "            fo.write(string_to_write)\n",
    "\n",
    "def write_params_file(input_settings, new_parms):\n",
    "    #IF you want to change parameters, use this function to write a new parameters file\n",
    "    new_parms_file = input_settings['param_file']\n",
    "    \n",
    "    with open(new_parms_file, 'w') as fo:\n",
    "        for key, val in new_parms.items():\n",
    "            string_to_write = key + \": \" + str(val) +'\\n'\n",
    "            fo.write(string_to_write)\n",
    "            \n",
    "def make_surface_proj(atom_box):\n",
    "    #Given an atom box (matrix with 1s where atoms are), determine the surface projection\n",
    "    \n",
    "    surface_proj = np.zeros(shape=(atom_box.shape[0], atom_box.shape[1]))\n",
    "    for i in range(surface_proj.shape[0]):\n",
    "        for j in range(surface_proj.shape[1]):\n",
    "            try:\n",
    "                surface_proj[i,j] = np.max(np.where(atom_box[i,j,:]==1))\n",
    "            except ValueError:\n",
    "                surface_proj[i,j] = 0\n",
    "    return surface_proj\n",
    "\n",
    "def calc_roughness(surface_projection):\n",
    "    #Calculate the roughness, given a surface projection\n",
    "    N = surface_projection.shape[0]\n",
    "    M = surface_projection.shape[1]\n",
    "    zbar = np.mean(surface_projection)\n",
    "    z_sum = 0\n",
    "    for i in range(N):\n",
    "        for j in range(M):\n",
    "            z_sum+=((surface_projection[i,j] - zbar )**2)\n",
    "    rms_roughness = np.sqrt((1.0/(N*M))*z_sum)\n",
    "    return rms_roughness\n",
    "\n",
    "def get_state_reward(sim_model):\n",
    "    '''Given an input of the simulation model this function returns the state and reward'''\n",
    "    #To get the final state put atoms into atom box\n",
    "    arr = sim_model.kmc.get_conf()\n",
    "    arr_1 = np.array(arr[0])\n",
    "    full_atom_box = np.zeros([latt['box'][1],latt['box'][2],latt['box'][3] ])\n",
    "    for i,j,k in arr_1:\n",
    "        full_atom_box[i,j,k]=1\n",
    "        \n",
    "    surface_proj = make_surface_proj(full_atom_box)\n",
    "    rms_val = calc_roughness(surface_proj)\n",
    "    \n",
    "    return full_atom_box, -1*rms_val\n",
    "\n",
    "def run_sim_with_chosen_action(s,state,action):\n",
    "    #Given simulation model s2, the state (i.e., atom positions)\n",
    "    #and the action (integer 0-5 inclusive), convert action to new deposition rate, and rerun the simulation\n",
    "    #with the new parameters\n",
    "    \n",
    "    #First write a new parameters file\n",
    "    dep_rates = [0.10,0.15, 0.20, 0.25, 0.30, 0.35]\n",
    "    new_dep_rate = dep_rates[action]\n",
    "    new_diff_rate = 0.1\n",
    "\n",
    "    new_params = collections.OrderedDict()\n",
    "    new_params ['deposition']= new_dep_rate\n",
    "    new_params['diffusion']= new_diff_rate\n",
    "    new_parms_file_name = 'new_params'\n",
    "    new_input_configuration_file = 'kmc_new.input'\n",
    "    new_output_config_file = 'new_output.xyz'\n",
    "    new_traj_file = 'new_kmc.trj'\n",
    "    new_stats_file = 'new_statistics.dat'\n",
    "    new_latt_file = 'ni_new.xyz'\n",
    "    \n",
    "    input_settings = collections.OrderedDict()\n",
    "    input_settings['time'] = 1.0\n",
    "    input_settings['print_period'] = 10.0 \n",
    "    input_settings[ 'save_traj_period'] = 10.0\n",
    "    input_settings['param_file'] =  new_parms_file_name\n",
    "    input_settings['incfg_file']= new_latt_file\n",
    "    input_settings['outcfg_file']= new_output_config_file\n",
    "    input_settings['trj_file']=new_traj_file\n",
    "    input_settings['stats_file']= new_stats_file\n",
    "\n",
    "    write_params_file(input_settings, new_params)\n",
    "    arr = s.kmc.get_conf()\n",
    "    arr_1 = np.array(arr[0])\n",
    "    \n",
    "    #Now we need to write the lattice to the file\n",
    "    write_new_input_file(input_settings, new_input_configuration_file)\n",
    "    write_params_file(input_settings, new_params)\n",
    "    write_lattice_to_file(input_settings,arr_1, latt)\n",
    "\n",
    "    s2=RunSim()\n",
    "    s2.read(new_input_configuration_file)\n",
    "    s2.init_sim()\n",
    "    s2.run(verbose=False)\n",
    "    \n",
    "    #Now get the state and reward\n",
    "    state, reward = get_state_reward(s2)\n",
    "            \n",
    "    return state, reward, s2"
   ]
  },
  {
   "cell_type": "code",
   "execution_count": null,
   "metadata": {},
   "outputs": [],
   "source": [
    "#Need to hold the state in memory and hten "
   ]
  },
  {
   "cell_type": "code",
   "execution_count": 5,
   "metadata": {},
   "outputs": [],
   "source": [
    "%load_ext autoreload\n",
    "%autoreload 2\n",
    "%matplotlib inline"
   ]
  },
  {
   "cell_type": "code",
   "execution_count": 6,
   "metadata": {},
   "outputs": [],
   "source": [
    "sys.path.append('..') #/Users/l2v/work/kmcsim"
   ]
  },
  {
   "cell_type": "markdown",
   "metadata": {},
   "source": [
    "Import kmc simulation tools"
   ]
  },
  {
   "cell_type": "code",
   "execution_count": 7,
   "metadata": {},
   "outputs": [],
   "source": [
    "from kmcsim.buildtools import make_fcc, write_latt\n",
    "from kmcsim.sim import KMCModel\n",
    "from kmcsim.sim import EventTree\n",
    "from kmcsim.sim import RunSim"
   ]
  },
  {
   "cell_type": "markdown",
   "metadata": {},
   "source": [
    "Working directory (inputs, outputs)"
   ]
  },
  {
   "cell_type": "code",
   "execution_count": 8,
   "metadata": {},
   "outputs": [],
   "source": [
    "wdir = '../data/working'"
   ]
  },
  {
   "cell_type": "code",
   "execution_count": 9,
   "metadata": {},
   "outputs": [],
   "source": [
    "#cat ../data/working/params"
   ]
  },
  {
   "cell_type": "markdown",
   "metadata": {},
   "source": [
    "Set up simulation box and initial configuration of the substrate (with atoms filling the whole box)"
   ]
  },
  {
   "cell_type": "code",
   "execution_count": 10,
   "metadata": {},
   "outputs": [],
   "source": [
    "# make substrate: perfect FCC lattice of given dimensions\n",
    "box = [16, 32, 4]\n",
    "latt = make_fcc(box)"
   ]
  },
  {
   "cell_type": "code",
   "execution_count": 11,
   "metadata": {},
   "outputs": [],
   "source": [
    "# extend the box in the z-direction to make space for new layers to grow\n",
    "latt['box'][3] = 12"
   ]
  },
  {
   "cell_type": "code",
   "execution_count": 12,
   "metadata": {},
   "outputs": [],
   "source": [
    "# write initial configuration to xyz file in the working directory\n",
    "write_latt(latt, os.path.join(wdir,'ni.xyz'))"
   ]
  },
  {
   "cell_type": "code",
   "execution_count": 13,
   "metadata": {},
   "outputs": [],
   "source": [
    "sim = RunSim()"
   ]
  },
  {
   "cell_type": "code",
   "execution_count": 14,
   "metadata": {},
   "outputs": [],
   "source": [
    "sim.read(os.path.join(wdir,'kmc.input'))"
   ]
  },
  {
   "cell_type": "code",
   "execution_count": 15,
   "metadata": {},
   "outputs": [],
   "source": [
    "sim.init_sim()"
   ]
  },
  {
   "cell_type": "code",
   "execution_count": 16,
   "metadata": {
    "scrolled": false
   },
   "outputs": [],
   "source": [
    "sim.run()"
   ]
  },
  {
   "cell_type": "code",
   "execution_count": null,
   "metadata": {},
   "outputs": [],
   "source": [
    "#Get and plot configuration\n",
    "arr = sim.kmc.get_conf()\n",
    "arr_1 = np.array(arr[0])\n",
    "\n",
    "fig = plt.figure(figsize = (10,10))\n",
    "ax = fig.add_subplot(111, projection='3d')\n",
    "\n",
    "for x,y,z in arr_1:\n",
    "    ax.scatter(x,y,z, c = 'b')"
   ]
  },
  {
   "cell_type": "code",
   "execution_count": null,
   "metadata": {},
   "outputs": [],
   "source": [
    "#Convert the x,y,z coordinates into a box\n",
    "#Because this is an fcc lattice the box should have zeros where no atom will be positioned. \n",
    "#The size of the box is just given by nx*ny*nz.\n",
    "\n",
    "full_atom_box = np.zeros([latt['box'][1],latt['box'][2],latt['box'][3] ])\n",
    "for i,j,k in arr_1:\n",
    "    full_atom_box[i,j,k]=1\n",
    "\n",
    "#Plot slices\n",
    "fig, axes = plt.subplots(nrows=3,ncols=3, figsize = (12,12))\n",
    "for ind,  ax in enumerate(axes.flat):\n",
    "    try:\n",
    "        ax.imshow(full_atom_box[:,:,ind])\n",
    "        ax.set_title('Surface {}'.format(ind))\n",
    "    except IndexError:\n",
    "        pass\n"
   ]
  },
  {
   "cell_type": "code",
   "execution_count": null,
   "metadata": {},
   "outputs": [],
   "source": [
    "surface_proj = make_surface_proj(full_atom_box)\n",
    "rms_val = calc_roughness(surface_proj)\n",
    "\n",
    "plt.figure()\n",
    "plt.imshow(surface_proj)\n",
    "plt.colorbar()\n",
    "plt.title('RMS: ' + str(np.round(rms_val,2)));"
   ]
  },
  {
   "cell_type": "code",
   "execution_count": null,
   "metadata": {},
   "outputs": [],
   "source": [
    "new_parms_file_name = 'new_params'\n",
    "new_input_configuration_file = 'kmc_new.input'\n",
    "new_output_config_file = 'new_output.xyz'\n",
    "new_traj_file = 'new_kmc.trj'\n",
    "new_stats_file = 'new_statistics.dat'\n",
    "new_latt_file = 'ni_new.xyz'\n",
    "\n",
    "input_settings = collections.OrderedDict()\n",
    "input_settings['time'] = 1.0\n",
    "input_settings['print_period'] = 10.0 \n",
    "input_settings[ 'save_traj_period'] = 10.0\n",
    "input_settings['param_file'] =  new_parms_file_name\n",
    "input_settings['incfg_file']= new_latt_file\n",
    "input_settings['outcfg_file']= new_output_config_file\n",
    "input_settings['trj_file']=new_traj_file\n",
    "input_settings['stats_file']= new_stats_file\n",
    "\n",
    "new_dep_rate = 0.1\n",
    "new_diff_rate = 0.1\n",
    "\n",
    "new_params = collections.OrderedDict()\n",
    "new_params ['deposition']= new_dep_rate\n",
    "new_params['diffusion']= new_diff_rate\n",
    "\n",
    "write_new_input_file(input_settings, new_input_configuration_file)\n",
    "write_params_file(input_settings, new_params)\n",
    "write_lattice_to_file(input_settings,arr_1, latt)\n"
   ]
  },
  {
   "cell_type": "code",
   "execution_count": null,
   "metadata": {},
   "outputs": [],
   "source": [
    "sim2 = RunSim()"
   ]
  },
  {
   "cell_type": "code",
   "execution_count": null,
   "metadata": {},
   "outputs": [],
   "source": [
    "sim2.read(new_input_configuration_file)"
   ]
  },
  {
   "cell_type": "code",
   "execution_count": null,
   "metadata": {},
   "outputs": [],
   "source": [
    "sim2.init_sim()"
   ]
  },
  {
   "cell_type": "code",
   "execution_count": null,
   "metadata": {
    "scrolled": false
   },
   "outputs": [],
   "source": [
    "sim2.run(verbose=False)"
   ]
  },
  {
   "cell_type": "code",
   "execution_count": null,
   "metadata": {},
   "outputs": [],
   "source": [
    "full_atom_box.shape"
   ]
  },
  {
   "cell_type": "markdown",
   "metadata": {},
   "source": [
    "# Reinforcement Learning Trial"
   ]
  },
  {
   "cell_type": "code",
   "execution_count": null,
   "metadata": {},
   "outputs": [],
   "source": [
    "#Set up the neural network model. Input: atom position box. Output: Choose out of 5 deposition rates ([0.05, 0.1, 0.15, 0.20, 0.25])\n",
    "from keras import Sequential\n",
    "from keras.layers import InputLayer, Dense, Conv3D, MaxPool3D, Flatten\n",
    "from keras.optimizers import SGD\n",
    "\n",
    "model = Sequential()\n",
    "model.add(Conv3D(16, activation='relu', kernel_size = (3,3,3), strides = (1,1,1), batch_input_shape=(1,32,32,12,1)))\n",
    "model.add(MaxPool3D((2,2,2)))\n",
    "model.add(Conv3D(32, activation='relu', kernel_size = (3,3,3), strides = (1,1,1)))\n",
    "model.add(MaxPool3D((2,2,2)))\n",
    "model.add(Flatten())\n",
    "model.add(Dense(128, activation='relu'))\n",
    "model.add(Dense(128, activation='relu'))\n",
    "model.add(Dense(6, activation='softmax'))\n",
    "model.compile(loss='mse', optimizer='adam', metrics=['mae'])\n",
    "model.build()\n",
    "model.summary()"
   ]
  },
  {
   "cell_type": "code",
   "execution_count": null,
   "metadata": {
    "scrolled": true
   },
   "outputs": [],
   "source": [
    "num_episodes = 400\n",
    "y = 0.75\n",
    "eps = 0.2\n",
    "decay_factor = 0.98\n",
    "r_avg_list = []\n",
    "num_actions = 5 #an episode ends after this number of actions\n",
    "dep_rates = [0.05,0.06, 0.07, 0.08, 0.09, 0.10]\n",
    "action_chosen = []\n",
    "for episode in range(num_episodes):\n",
    "    \n",
    "    print('Episode No. {}'.format(episode))\n",
    "    counter = 0\n",
    "    r_sum = 0\n",
    "   \n",
    "    #for each episode start from the beginning, i.e. initialize a new simulation with default parameters\n",
    "    s = RunSim()\n",
    "    s.read(os.path.join(wdir,'kmc.input'))\n",
    "    s.init_sim()\n",
    "    s.run()\n",
    "    \n",
    "    while counter<num_actions:\n",
    "        t0 = time()\n",
    "        eps *= decay_factor\n",
    "        #Get the state and reward\n",
    "        state, reward  = get_state_reward(s)\n",
    "\n",
    "        #Choose an action\n",
    "        if np.random.random() < eps:\n",
    "            action = np.random.randint(0, 6)\n",
    "        else:\n",
    "            action = np.argmax(model.predict(state[None,:,:,:,None]))\n",
    "\n",
    "        #Now run the simulation from the new state with the new action\n",
    "        #Returns the state function and kmcmodel\n",
    "        s_new, reward_new, kmc_model = run_sim_with_chosen_action(s,state,action)\n",
    "        \n",
    "        target = reward_new + y * np.max(model.predict(s_new[None,:,:,:,None]))\n",
    "        target_vec = model.predict(state[None,:,:,:,None])[0]\n",
    "        target_vec[action] = target\n",
    "        \n",
    "        print(\"Action Number: {}, Deposition Rate: {}\".format(counter, dep_rates[action]))\n",
    "        \n",
    "        model.fit(state[None,:,:,:,None], target_vec.reshape(-1, 6), epochs=1, verbose=0)\n",
    "        s = kmc_model\n",
    "        counter+=1\n",
    "        r_sum += reward_new\n",
    "        \n",
    "        t1 = time()\n",
    "        action_chosen.append(action)\n",
    "        print(\"Took {} s\".format(np.round(t1-t0, 4)))\n",
    "        \n",
    "    r_avg_list.append(r_sum)\n"
   ]
  },
  {
   "cell_type": "code",
   "execution_count": null,
   "metadata": {},
   "outputs": [],
   "source": [
    "plt.figure()\n",
    "plt.plot(r_avg_list)\n",
    "plt.xlabel('Episode #')\n",
    "plt.ylabel('Reward (Negative RMS Roughness)')\n",
    "plt.savefig('reward_per_episode.png')\n",
    "\n",
    "plt.figure()\n",
    "plt.hist(action_chosen[250:])\n",
    "plt.xlabel('Action #')\n",
    "plt.ylabel('Frequency (Negative RMS Roughness)')\n",
    "plt.savefig('actions_histogram.png')"
   ]
  },
  {
   "cell_type": "code",
   "execution_count": null,
   "metadata": {},
   "outputs": [],
   "source": [
    "#Now let's run a test\n",
    "#Just take the max Q at each time and calcualte final roughness. Keep a track of which values are selected each step.\n"
   ]
  },
  {
   "cell_type": "code",
   "execution_count": null,
   "metadata": {},
   "outputs": [],
   "source": [
    "surface_proj = make_surface_proj(state)\n",
    "\n",
    "plt.figure()\n",
    "plt.imshow(surface_proj)\n",
    "plt.title('RMS: ' + str(calc_roughness(surface_proj)))"
   ]
  },
  {
   "cell_type": "code",
   "execution_count": null,
   "metadata": {},
   "outputs": [],
   "source": [
    "model.predict(state[None,:,:,:,None])"
   ]
  },
  {
   "cell_type": "code",
   "execution_count": null,
   "metadata": {},
   "outputs": [],
   "source": [
    "np.argmax(model.predict(state[None,:,:,:,None]))"
   ]
  },
  {
   "cell_type": "code",
   "execution_count": null,
   "metadata": {},
   "outputs": [],
   "source": []
  },
  {
   "cell_type": "code",
   "execution_count": null,
   "metadata": {},
   "outputs": [],
   "source": []
  }
 ],
 "metadata": {
  "kernelspec": {
   "display_name": "Python 2",
   "language": "python",
   "name": "python2"
  },
  "language_info": {
   "codemirror_mode": {
    "name": "ipython",
    "version": 2
   },
   "file_extension": ".py",
   "mimetype": "text/x-python",
   "name": "python",
   "nbconvert_exporter": "python",
   "pygments_lexer": "ipython2",
   "version": "2.7.12"
  }
 },
 "nbformat": 4,
 "nbformat_minor": 2
}
